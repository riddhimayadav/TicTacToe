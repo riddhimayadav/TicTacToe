{
 "cells": [
  {
   "cell_type": "code",
   "execution_count": 1,
   "id": "0fbfcb2f-1327-4419-a82d-b6327edef058",
   "metadata": {},
   "outputs": [],
   "source": [
    "from IPython.display import clear_output\n",
    "#display board and key\n",
    "def display_board(board):\n",
    "    clear_output()  # Everytime you call this function, it will clear previous board. This only works in jupyter.\n",
    "    \n",
    "    print(' ' + board[7] + ' | ' + board[8] + ' | ' + board[9]+'      Key:  7 | 8 | 9 ')\n",
    "    print('-----------          -----------')\n",
    "    print(' ' + board[4] + ' | ' + board[5] + ' | ' + board[6]+'            4 | 5 | 6 ')\n",
    "    print('-----------          -----------')\n",
    "    print(' ' + board[1] + ' | ' + board[2] + ' | ' + board[3]+'            1 | 2 | 3 ')\n"
   ]
  },
  {
   "cell_type": "code",
   "execution_count": 3,
   "id": "22252651-d301-4e2b-8a56-54078c91b58b",
   "metadata": {},
   "outputs": [
    {
     "name": "stdout",
     "output_type": "stream",
     "text": [
      " X | O | X      Key:  7 | 8 | 9 \n",
      "-----------          -----------\n",
      " O | X | O            4 | 5 | 6 \n",
      "-----------          -----------\n",
      " X | O | X            1 | 2 | 3 \n"
     ]
    }
   ],
   "source": [
    "#just to test how it will look\n",
    "test_board = ['#','X','O','X','O','X','O','X','O','X']\n",
    "display_board(test_board)"
   ]
  },
  {
   "cell_type": "code",
   "execution_count": 5,
   "id": "18167760-ddea-4f2e-b30b-8caf609605a5",
   "metadata": {},
   "outputs": [],
   "source": [
    "def player_input():\n",
    "    marker = ''\n",
    "    \n",
    "    while not (marker == 'X' or marker == 'O'):\n",
    "        marker = input('Player 1: Do you want to be X or O? ').upper()\n",
    "        if marker not in ['X','O']:\n",
    "            print(\"Sorry, I don't understand, please only enter X or O!\")\n",
    "\n",
    "    '''\n",
    "    Output= (Player 1 marker, Player 2 marker)\n",
    "    '''\n",
    "    \n",
    "    if marker == 'X':\n",
    "        return ('X', 'O')\n",
    "    else:\n",
    "        return ('O', 'X')"
   ]
  },
  {
   "cell_type": "code",
   "execution_count": 7,
   "id": "30729d4b-ce15-4279-ad25-f75a14a33295",
   "metadata": {},
   "outputs": [
    {
     "name": "stdin",
     "output_type": "stream",
     "text": [
      "Player 1: Do you want to be X or O?  x\n"
     ]
    },
    {
     "data": {
      "text/plain": [
       "('X', 'O')"
      ]
     },
     "execution_count": 7,
     "metadata": {},
     "output_type": "execute_result"
    }
   ],
   "source": [
    "#test\n",
    "player_input()"
   ]
  },
  {
   "cell_type": "code",
   "execution_count": 9,
   "id": "ab07c3d3-071d-4a63-a56e-5b3b3342f33b",
   "metadata": {},
   "outputs": [],
   "source": [
    "#assign certain marker to certain position based on which player's turn\n",
    "def place_marker(board, marker, position):\n",
    "    board[position] = marker"
   ]
  },
  {
   "cell_type": "code",
   "execution_count": 11,
   "id": "ed4f2d32-521b-492f-85f1-cbbb9f9f5ff9",
   "metadata": {},
   "outputs": [
    {
     "name": "stdout",
     "output_type": "stream",
     "text": [
      " X | $ | X      Key:  7 | 8 | 9 \n",
      "-----------          -----------\n",
      " O | X | O            4 | 5 | 6 \n",
      "-----------          -----------\n",
      " X | O | X            1 | 2 | 3 \n"
     ]
    }
   ],
   "source": [
    "#test\n",
    "place_marker(test_board,'$',8)\n",
    "display_board(test_board)"
   ]
  },
  {
   "cell_type": "code",
   "execution_count": 13,
   "id": "7269ab27-8534-418f-b18c-39d760c5b32b",
   "metadata": {},
   "outputs": [],
   "source": [
    "#check if someone won\n",
    "#check all rows,columns, and diagonals and see if they all share the same marker\n",
    "#if true is returned, whatever mark was inputted had won\n",
    "def win_check(board,mark):\n",
    "\n",
    "    return ((board[7] == board[8] == board[9] == mark) or # across the top\n",
    "    (board[4] == board[5] == board[6] == mark) or # across the middle\n",
    "    (board[1] == board[2] == board[3] == mark) or # across the bottom\n",
    "    (board[7] == board[4] == board[1] == mark) or # down the middle\n",
    "    (board[8] == board[5] == board[2] == mark) or # down the middle\n",
    "    (board[9] == board[6] == board[3] == mark) or # down the right side\n",
    "    (board[7] == board[5] == board[3] == mark) or # diagonal\n",
    "    (board[9] == board[5] == board[1] == mark)) # diagonal"
   ]
  },
  {
   "cell_type": "code",
   "execution_count": 15,
   "id": "bd787d95-f353-4e14-86f5-a2d1b932bf43",
   "metadata": {},
   "outputs": [
    {
     "name": "stdout",
     "output_type": "stream",
     "text": [
      " X | $ | X      Key:  7 | 8 | 9 \n",
      "-----------          -----------\n",
      " O | X | O            4 | 5 | 6 \n",
      "-----------          -----------\n",
      " X | O | X            1 | 2 | 3 \n"
     ]
    },
    {
     "data": {
      "text/plain": [
       "(['#', 'X', 'O', 'X', 'O', 'X', 'O', 'X', '$', 'X'], 'X')"
      ]
     },
     "execution_count": 15,
     "metadata": {},
     "output_type": "execute_result"
    }
   ],
   "source": [
    "#test\n",
    "display_board(test_board)\n",
    "(test_board,'X')"
   ]
  },
  {
   "cell_type": "code",
   "execution_count": 17,
   "id": "a967c76b-9e0f-453c-a557-9f6b62da59e4",
   "metadata": {},
   "outputs": [],
   "source": [
    "import random\n",
    "#randomly decide which player goes first\n",
    "def choose_first():\n",
    "\n",
    "    flip = random.randint(0,1)\n",
    "    if flip == 0:\n",
    "        return 'Player 2'\n",
    "    else:\n",
    "        return 'Player 1'"
   ]
  },
  {
   "cell_type": "code",
   "execution_count": 19,
   "id": "da75b387-19ec-4e09-86d4-6d705ee3fa93",
   "metadata": {},
   "outputs": [],
   "source": [
    "#check if space on board is open\n",
    "def space_check(board, position):\n",
    "    \n",
    "    return board[position] == ' '"
   ]
  },
  {
   "cell_type": "code",
   "execution_count": 21,
   "id": "10290f3e-d455-496a-ad01-d16c3f321076",
   "metadata": {},
   "outputs": [],
   "source": [
    "#checks if board is full\n",
    "def full_board_check(board):\n",
    "    for i in range(1,10):\n",
    "        if space_check(board, i):\n",
    "            return False\n",
    "    return True"
   ]
  },
  {
   "cell_type": "code",
   "execution_count": 23,
   "id": "b4cc57b3-e03a-4e74-bef1-5a4349cf296b",
   "metadata": {},
   "outputs": [],
   "source": [
    "#asks for player's next position\n",
    "#HOW TO TELL THEM THAT YOU CANT PUT A LETTER?\n",
    "def player_choice(board):\n",
    "    position = 0\n",
    "    \n",
    "    while position not in [1,2,3,4,5,6,7,8,9] or not space_check(board, position):\n",
    "        if space_check(board,position)==False:\n",
    "            print (\"Sorry, that spot is taken!\")\n",
    "        position = int(input('Choose your next position based on the key above: (1-9) '))\n",
    "        if position not in [1,2,3,4,5,6,7,8,9]:\n",
    "            print(\"Sorry, that is not a valid position!\")\n",
    "            position = 0\n",
    "        \n",
    "    return position"
   ]
  },
  {
   "cell_type": "code",
   "execution_count": 25,
   "id": "27233698-0273-47be-bbb4-87500b42c7bb",
   "metadata": {},
   "outputs": [],
   "source": [
    "def replay():\n",
    "\n",
    "    choice = input('Do you want to play again? Enter Yes or No: ').lower().startswith('y')\n",
    "    return choice\n",
    "    while choice[0] != 'y' or 'n':\n",
    "        print (\"Sorry, I don't understand!\")\n",
    "        input('Do you want to play again? Enter Yes or No: ').lower().startswith('y')"
   ]
  },
  {
   "cell_type": "code",
   "execution_count": 29,
   "id": "329caac7-a62d-4076-ac51-2178ea0cef82",
   "metadata": {},
   "outputs": [
    {
     "name": "stdout",
     "output_type": "stream",
     "text": [
      " O |   |        Key:  7 | 8 | 9 \n",
      "-----------          -----------\n",
      " X | O | X            4 | 5 | 6 \n",
      "-----------          -----------\n",
      " O | X | O            1 | 2 | 3 \n",
      "Player 2 has won!\n"
     ]
    },
    {
     "name": "stdin",
     "output_type": "stream",
     "text": [
      "Do you want to play again? Enter Yes or No:  No\n"
     ]
    },
    {
     "name": "stdout",
     "output_type": "stream",
     "text": [
      "Sorry to see you go, but I hope you had fun!\n"
     ]
    }
   ],
   "source": [
    "print('Welcome to Tic Tac Toe!')\n",
    "#while loop to keep running the game\n",
    "while True:\n",
    "    # Reset the board\n",
    "    theBoard = [' '] * 10\n",
    "    player1_marker, player2_marker = player_input() #what each player's marker will be\n",
    "    turn = choose_first()\n",
    "    print(turn + ' will go first!')\n",
    "    \n",
    "    play_game = input('Are you ready to play? Enter Yes or No.')\n",
    "    if play_game not in ['no','yes','Yes','No']:\n",
    "        print(\"Sorry, I don't understand!\")\n",
    "    if play_game == 'no' or 'No':\n",
    "        print('Sorry to see you go!')\n",
    "    \n",
    "    if play_game.lower()[0] == 'y':\n",
    "        game_on = True\n",
    "    else:\n",
    "        game_on = False\n",
    "\n",
    "    #game play\n",
    "    while game_on:\n",
    "        if turn == 'Player 1':\n",
    "            # Player1's turn.\n",
    "            print(\"Player 1, it's your turn!\")\n",
    "            #show board\n",
    "            display_board(theBoard)\n",
    "            #choose a position\n",
    "            position = player_choice(theBoard)\n",
    "            #place marker on position\n",
    "            place_marker(theBoard, player1_marker, position)\n",
    "\n",
    "            #win?\n",
    "            if win_check(theBoard, player1_marker):\n",
    "                display_board(theBoard)\n",
    "                print('Congratulations! You have won the game!')\n",
    "                game_on = False\n",
    "            #tie?\n",
    "            else:\n",
    "                if full_board_check(theBoard):\n",
    "                    display_board(theBoard)\n",
    "                    print('The game is a draw!')\n",
    "                    break\n",
    "            #no win or tie, next player's turn\n",
    "                else:\n",
    "                    turn = 'Player 2'\n",
    "\n",
    "        else:\n",
    "            # Player2's turn.\n",
    "            print(\"Player 2, it's your turn!\")\n",
    "            #display board\n",
    "            display_board(theBoard)\n",
    "            #ask for position\n",
    "            position = player_choice(theBoard)\n",
    "            #place marker on position\n",
    "            place_marker(theBoard, player2_marker, position)\n",
    "            \n",
    "            #win?\n",
    "            if win_check(theBoard, player2_marker):\n",
    "                display_board(theBoard)\n",
    "                print('Player 2 has won!')\n",
    "                game_on = False\n",
    "            #tie?\n",
    "            else:\n",
    "                if full_board_check(theBoard):\n",
    "                    display_board(theBoard)\n",
    "                    print('The game is a draw!')\n",
    "                    break\n",
    "            #no win or tie, next player's turn\n",
    "                else:\n",
    "                    turn = 'Player 1'\n",
    "\n",
    "    if not replay():\n",
    "        print('Sorry to see you go, but I hope you had fun!')\n",
    "        break #break out of the while loop on replay()"
   ]
  },
  {
   "cell_type": "code",
   "execution_count": null,
   "id": "ec5beed3-235e-482a-ad94-13346ee2bcff",
   "metadata": {},
   "outputs": [],
   "source": []
  }
 ],
 "metadata": {
  "kernelspec": {
   "display_name": "Python 3 (ipykernel)",
   "language": "python",
   "name": "python3"
  },
  "language_info": {
   "codemirror_mode": {
    "name": "ipython",
    "version": 3
   },
   "file_extension": ".py",
   "mimetype": "text/x-python",
   "name": "python",
   "nbconvert_exporter": "python",
   "pygments_lexer": "ipython3",
   "version": "3.12.4"
  }
 },
 "nbformat": 4,
 "nbformat_minor": 5
}
